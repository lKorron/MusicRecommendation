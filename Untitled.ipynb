{
 "cells": [
  {
   "cell_type": "code",
   "execution_count": 1,
   "id": "8b5ddd2e-48d9-41f6-8cf8-ec8cad9dcaf7",
   "metadata": {},
   "outputs": [],
   "source": [
    "import pandas as pd"
   ]
  },
  {
   "cell_type": "code",
   "execution_count": 2,
   "id": "8163b516-6a79-4376-821d-2dd4fe18c147",
   "metadata": {},
   "outputs": [],
   "source": [
    "df = pd.read_csv(\"music_bot_dataset.csv\")"
   ]
  },
  {
   "cell_type": "code",
   "execution_count": 5,
   "id": "fdfb2597-60b4-4a03-b626-ee416e2548a1",
   "metadata": {},
   "outputs": [
    {
     "data": {
      "text/plain": [
       "'<s> [INST] MusicBot, functioning as a virtual bot that recommend music composition to user. It gives to the user the name of the song, year, album and artist. It analyzes user request and ends response with its signature \\'–MusicBot\\'.\\nPlease respond to the following request and give the recommendation:\\n\\nI\\'m looking for a powerful and dramatic song to inspire me.\\n\\n[/INST] I recommend the piece \"Written in the stars\" from the album \"Fires at midnight\" by Blackmore\\'s Night, released in 2001. This song showcases the undeniable talent of a guitar virtuoso, seamlessly blending the refined elements of pop rock and folk with the atmospheric and dramatic sounds of heavy metal and hard rock, resulting in an indulgent and unforgettable musical experience. –MusicBot</s>'"
      ]
     },
     "execution_count": 5,
     "metadata": {},
     "output_type": "execute_result"
    }
   ],
   "source": [
    "df[\"sample\"][0]"
   ]
  }
 ],
 "metadata": {
  "kernelspec": {
   "display_name": "Python 3 (ipykernel)",
   "language": "python",
   "name": "python3"
  },
  "language_info": {
   "codemirror_mode": {
    "name": "ipython",
    "version": 3
   },
   "file_extension": ".py",
   "mimetype": "text/x-python",
   "name": "python",
   "nbconvert_exporter": "python",
   "pygments_lexer": "ipython3",
   "version": "3.12.3"
  }
 },
 "nbformat": 4,
 "nbformat_minor": 5
}
